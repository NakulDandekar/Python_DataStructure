{
 "cells": [
  {
   "cell_type": "markdown",
   "id": "5c23af0a-9270-4fee-bdf6-fb8cbf7177bd",
   "metadata": {},
   "source": [
    "# Assignment-2\n",
    "## Data Structure"
   ]
  },
  {
   "cell_type": "code",
   "execution_count": 3,
   "id": "700830b1-b457-4332-88a0-d150b3d8aed7",
   "metadata": {},
   "outputs": [
    {
     "data": {
      "text/plain": [
       "'Hlo'"
      ]
     },
     "execution_count": 3,
     "metadata": {},
     "output_type": "execute_result"
    }
   ],
   "source": [
    "#Discuss string slicing and provide examples\n",
    "'''\n",
    "String Slicing: The process of extracting a part of a string using a specific range of indices.\n",
    "'''\n",
    "#exapmle:\n",
    "str=\"Hello world\"\n",
    "str[0:4]\n",
    "str[0:]\n",
    "str[0:5:2]"
   ]
  },
  {
   "cell_type": "code",
   "execution_count": 7,
   "id": "b493d34e-b779-41d9-bbca-54458de76a56",
   "metadata": {},
   "outputs": [
    {
     "data": {
      "text/plain": [
       "[1, 3.4, 'Ram', 'Ajay', True, (2+3j)]"
      ]
     },
     "execution_count": 7,
     "metadata": {},
     "output_type": "execute_result"
    }
   ],
   "source": [
    "#explain the key features of lists in python\n",
    "'''\n",
    "1.List is type of data structure in pyhton that can store anything heterogenous data.\n",
    "2.List is an ordered collection of elements that can be of any data type.\n",
    "3.Lists are mutable.\n",
    "4.To add data in list by using 'append' & remove data from list by using 'remove'.\n",
    "5.We can store list inside list.\n",
    "6.Lists are iterable, it means you can loop through them using loops like 'for'.\n",
    "'''\n"
   ]
  },
  {
   "cell_type": "code",
   "execution_count": 8,
   "id": "36d880fb-2606-4f39-ad1a-67e84d241f30",
   "metadata": {},
   "outputs": [
    {
     "name": "stdout",
     "output_type": "stream",
     "text": [
      "3.4\n",
      "(2+3j)\n",
      "[3.4, 'Nakul', 'Ajay']\n"
     ]
    },
    {
     "data": {
      "text/plain": [
       "[1, 3.4, 'Ram', True, (2+3j), 'pwskills']"
      ]
     },
     "execution_count": 8,
     "metadata": {},
     "output_type": "execute_result"
    }
   ],
   "source": [
    "#Describe how to access, modify, and delete elements in a list with examples.\n",
    "test_list=[1,3.4,\"Nakul\",\"Ajay\",True,2+3j]\n",
    "\n",
    "#accessing elements in list:\n",
    "print(test_list[1])\n",
    "print(test_list[-1])\n",
    "print(test_list[1:4])\n",
    "\n",
    "#modifyin elements in list\n",
    "test_list[2]=\"Ram\"\n",
    "\n",
    "#adding elements in list\n",
    "test_list.append(\"pwskills\")\n",
    "\n",
    "#deleting elements in list\n",
    "test_list.remove(\"Ajay\")\n",
    "test_list"
   ]
  },
  {
   "cell_type": "code",
   "execution_count": 11,
   "id": "10e7f899-46ad-4f99-8272-0d15b1826034",
   "metadata": {},
   "outputs": [
    {
     "data": {
      "text/plain": [
       "\"\\n>>tuples and lists are both sequence data types in python, but they have different \\ncharacteristics and use cases.\\n\\n1.Mutability:\\n>>List are mutable.\\n>>Tuples are not mutable.\\n\\n2.Syntax:\\n>>list have square brackets '[]'\\n>>tuples have parentheses '()'\\n\\n3.Use Case:\\n>>Lists are use when you need a collection of items that can be change dynamically.\\n>>Tuples are use when you want to ensure that the data remains constant.\\n\\n4.Methods:\\n>>List have built in methods like 'append()', 'remove()', 'pop()', 'sort()', 'reverse()'\\n>>Tuples have built in method like 'count()', 'index()'\\n\\n5.Performance:\\n>>List is slower than tuple.\\n>>Tuples are faster than list.\\n\\n\""
      ]
     },
     "execution_count": 11,
     "metadata": {},
     "output_type": "execute_result"
    }
   ],
   "source": [
    "#Compare and contrast tuples and lists with examples.\n",
    "'''\n",
    ">>tuples and lists are both sequence data types in python, but they have different \n",
    "characteristics and use cases.\n",
    "\n",
    "1.Mutability:\n",
    ">>List are mutable.\n",
    ">>Tuples are not mutable.\n",
    "\n",
    "2.Syntax:\n",
    ">>list have square brackets '[]'\n",
    ">>tuples have parentheses '()'\n",
    "\n",
    "3.Use Case:\n",
    ">>Lists are use when you need a collection of items that can be change dynamically.\n",
    ">>Tuples are use when you want to ensure that the data remains constant.\n",
    "\n",
    "4.Methods:\n",
    ">>List have built in methods like 'append()', 'remove()', 'pop()', 'sort()', 'reverse()'\n",
    ">>Tuples have built in method like 'count()', 'index()'\n",
    "\n",
    "5.Performance:\n",
    ">>List is slower than tuple.\n",
    ">>Tuples are faster than list.\n",
    "\n",
    "'''\n"
   ]
  },
  {
   "cell_type": "code",
   "execution_count": 13,
   "id": "2444a65e-e869-4978-914f-7a4a8717e6bd",
   "metadata": {},
   "outputs": [
    {
     "data": {
      "text/plain": [
       "'\\n>>Set is unordered collection of unique elements.\\n\\ns={\"red\", \"orange\",\"black\"}\\n\\n>>only print unique elements.\\n\\ns={\"red\", \"black\", \"black\", \"orange\"}\\n\\n>>sets are mutable\\n\\ns={\"red\", \"blue\", \"yellow\"}\\n\\ns.add(\"black\")\\ns.remove(\"yellow\")\\n\\n>>In sets there is not concept of indexing\\n//throw error\\n'"
      ]
     },
     "execution_count": 13,
     "metadata": {},
     "output_type": "execute_result"
    }
   ],
   "source": [
    "#Describe the key features of sets and provide examples of their use.\n",
    "'''\n",
    ">>Set is unordered collection of unique elements.\n",
    "\n",
    "s={\"red\", \"orange\",\"black\"}\n",
    "\n",
    ">>only print unique elements.\n",
    "\n",
    "s={\"red\", \"black\", \"black\", \"orange\"}\n",
    "\n",
    ">>sets are mutable\n",
    "\n",
    "s={\"red\", \"blue\", \"yellow\"}\n",
    "\n",
    "s.add(\"black\")\n",
    "s.remove(\"yellow\")\n",
    "\n",
    ">>In sets there is not concept of indexing\n",
    "//throw error\n",
    "'''"
   ]
  },
  {
   "cell_type": "code",
   "execution_count": 15,
   "id": "03764e57-9e4a-40c4-a05c-e0f6dab17014",
   "metadata": {},
   "outputs": [
    {
     "data": {
      "text/plain": [
       "'\\nTuple use cases:\\n1.Immutable data storage.\\n2.Function return values.\\n3.Dictionary keys.\\n4.Data Integrity.\\n5.Efficient Data Access.\\n\\nSets use cases:\\n1.Removing Duplicates.\\n2.Membership Testing: Quickly check if an item exists in a collection.\\n3.Set Operations.\\n4.Tracking Unique Items: Track unique element.\\n5.Filtering: Filter out unwanted elements from a collection.\\n'"
      ]
     },
     "execution_count": 15,
     "metadata": {},
     "output_type": "execute_result"
    }
   ],
   "source": [
    "#Discuss the use cases of tuples and sets in python programming.\n",
    "'''\n",
    "Tuple use cases:\n",
    "1.Immutable data storage.\n",
    "2.Function return values.\n",
    "3.Dictionary keys.\n",
    "4.Data Integrity.\n",
    "5.Efficient Data Access.\n",
    "\n",
    "Sets use cases:\n",
    "1.Removing Duplicates.\n",
    "2.Membership Testing: Quickly check if an item exists in a collection.\n",
    "3.Set Operations.\n",
    "4.Tracking Unique Items: Track unique element.\n",
    "5.Filtering: Filter out unwanted elements from a collection.\n",
    "'''"
   ]
  },
  {
   "cell_type": "code",
   "execution_count": 16,
   "id": "3cadf54d-dd56-4f28-9c7a-c2888bfdf60a",
   "metadata": {},
   "outputs": [
    {
     "data": {
      "text/plain": [
       "'\\nphonebook={\"Dad\":1234, \"Mom\":143}\\n\\n#adding item in dictionary \\nphonebook[\"sister\"]=435\\n\\n#modifying item in dictionary\\nphonebook[\"Dad\"]=\"Hi Dad!\"\\n\\n#Deleting item form Dictionary\\nphonebook.pop(\"Dad\")\\nphonebook.popitem()\\n\\n'"
      ]
     },
     "execution_count": 16,
     "metadata": {},
     "output_type": "execute_result"
    }
   ],
   "source": [
    "#Describe how to add, modify, and delete items in a dictionary with examples.\n",
    "\n",
    "'''\n",
    "phonebook={\"Dad\":1234, \"Mom\":143}\n",
    "\n",
    "#adding item in dictionary \n",
    "phonebook[\"sister\"]=435\n",
    "\n",
    "#modifying item in dictionary\n",
    "phonebook[\"Dad\"]=\"Hi Dad!\"\n",
    "\n",
    "#Deleting item form Dictionary\n",
    "phonebook.pop(\"Dad\")\n",
    "phonebook.popitem()\n",
    "\n",
    "'''\n"
   ]
  },
  {
   "cell_type": "code",
   "execution_count": null,
   "id": "4d06ffcb-a2e1-4a82-aa99-c75cb2c15739",
   "metadata": {},
   "outputs": [],
   "source": [
    "#Discuss the importance of dictionary keys being immutable and provide examples.\n",
    "'''\n",
    "\n",
    "In python dictionary keys must be immutable, their values can't be change after being created:\n",
    "\n",
    "1.Dictionary keys are stored in a hash tables. for key to be hashble, it must be immutable.\n",
    "\n",
    "2.Data integrity: if key were mutable their hash value should be change, if the key content could be change after added to dictionary causing data corruption.\n",
    "\n",
    "3.Efficiency: Immutable keys provide efficient and predictable access to dictionary values.\n",
    "\n",
    "The immutability of dictionary keys is essential to maintain the integrity and efficiency of python's dictionaries.\n",
    "\n",
    "examples:\n",
    "immutable keys:\n",
    "\n",
    "#integer as key\n",
    "dict={1:\"one\",2:\"two\"}\n",
    "\n",
    "#String as a key\n",
    "dict={\"name\":\"Nakul\", \"age\":22}\n",
    "\n",
    "#tuple as a key\n",
    "dict={(1,2):\"coordinates\", (3,4):\"points\"}\n"
   ]
  }
 ],
 "metadata": {
  "kernelspec": {
   "display_name": "Python 3 (ipykernel)",
   "language": "python",
   "name": "python3"
  },
  "language_info": {
   "codemirror_mode": {
    "name": "ipython",
    "version": 3
   },
   "file_extension": ".py",
   "mimetype": "text/x-python",
   "name": "python",
   "nbconvert_exporter": "python",
   "pygments_lexer": "ipython3",
   "version": "3.10.8"
  }
 },
 "nbformat": 4,
 "nbformat_minor": 5
}
